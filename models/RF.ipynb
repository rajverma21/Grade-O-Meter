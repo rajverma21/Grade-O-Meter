{
 "cells": [
  {
   "cell_type": "code",
   "execution_count": 13,
   "id": "10169332-4c5c-416b-bdb5-33fe9e507aee",
   "metadata": {},
   "outputs": [
    {
     "name": "stdout",
     "output_type": "stream",
     "text": [
      "Mean Absolute Error (MAE): 0.7708359585926897\n",
      "Mean Squared Error (MSE): 1.0154784471357263\n",
      "R2 Score: 0.9057475202981433\n"
     ]
    }
   ],
   "source": [
    "import pandas as pd\n",
    "import numpy as np\n",
    "from sklearn.ensemble import RandomForestRegressor\n",
    "from sklearn.model_selection import train_test_split\n",
    "from sklearn.preprocessing import StandardScaler\n",
    "from sklearn.metrics import mean_absolute_error, mean_squared_error, r2_score\n",
    "\n",
    "# Load the dataset\n",
    "df = pd.read_csv(r'C:\\Users\\KIIT\\Desktop\\8th sem project\\student-por.csv')\n",
    "\n",
    "# Selecting relevant features including G1 and G2\n",
    "features = ['G1', 'G2', 'age', 'Medu', 'Fedu', 'studytime', 'failures',\n",
    "            'freetime', 'goout', 'Dalc', 'Walc', 'health', 'absences']\n",
    "target = 'G3'\n",
    "\n",
    "# Encode categorical features if they exist\n",
    "categorical_features = ['schoolsup', 'famsup', 'higher']\n",
    "for col in categorical_features:\n",
    "    if col in df.columns:\n",
    "        df[col] = df[col].map({'yes': 1, 'no': 0})\n",
    "\n",
    "X = df[features]\n",
    "y = df[target]\n",
    "\n",
    "# Normalize numerical features\n",
    "scaler = StandardScaler()\n",
    "X_scaled = scaler.fit_transform(X)\n",
    "\n",
    "# Split dataset into training and testing sets (No random state for variation)\n",
    "X_train, X_test, y_train, y_test = train_test_split(X_scaled, y, test_size=0.2)\n",
    "\n",
    "# Build and train the Random Forest model\n",
    "rf_model = RandomForestRegressor(n_estimators=200, max_depth=20, min_samples_split=5, min_samples_leaf=3)\n",
    "rf_model.fit(X_train, y_train)\n",
    "\n",
    "# Evaluate the model\n",
    "y_pred = rf_model.predict(X_test)\n",
    "print(\"Mean Absolute Error (MAE):\", mean_absolute_error(y_test, y_pred))\n",
    "print(\"Mean Squared Error (MSE):\", mean_squared_error(y_test, y_pred))\n",
    "print(\"R2 Score:\", r2_score(y_test, y_pred))\n"
   ]
  },
  {
   "cell_type": "code",
   "execution_count": null,
   "id": "48cff8e6-6ca2-46db-85fd-47614aaae09e",
   "metadata": {},
   "outputs": [],
   "source": []
  }
 ],
 "metadata": {
  "kernelspec": {
   "display_name": "Python 3 (ipykernel)",
   "language": "python",
   "name": "python3"
  },
  "language_info": {
   "codemirror_mode": {
    "name": "ipython",
    "version": 3
   },
   "file_extension": ".py",
   "mimetype": "text/x-python",
   "name": "python",
   "nbconvert_exporter": "python",
   "pygments_lexer": "ipython3",
   "version": "3.8.18"
  }
 },
 "nbformat": 4,
 "nbformat_minor": 5
}
